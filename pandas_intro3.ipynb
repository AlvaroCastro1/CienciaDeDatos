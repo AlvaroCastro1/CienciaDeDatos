{
 "cells": [
  {
   "cell_type": "code",
   "execution_count": 1,
   "metadata": {},
   "outputs": [],
   "source": [
    "import pandas as pd"
   ]
  },
  {
   "cell_type": "code",
   "execution_count": 86,
   "metadata": {},
   "outputs": [
    {
     "data": {
      "text/plain": [
       "id             int64\n",
       "full_text     object\n",
       "favorites    float64\n",
       "retweets     float64\n",
       "mentions     float64\n",
       "country       object\n",
       "user          object\n",
       "followers    float64\n",
       "followees      int64\n",
       "dtype: object"
      ]
     },
     "execution_count": 86,
     "metadata": {},
     "output_type": "execute_result"
    }
   ],
   "source": [
    "df = pd.read_csv(\"./datos/twitter.csv\")\n",
    "df.dtypes"
   ]
  },
  {
   "cell_type": "code",
   "execution_count": 4,
   "metadata": {},
   "outputs": [
    {
     "data": {
      "text/html": [
       "<div>\n",
       "<style scoped>\n",
       "    .dataframe tbody tr th:only-of-type {\n",
       "        vertical-align: middle;\n",
       "    }\n",
       "\n",
       "    .dataframe tbody tr th {\n",
       "        vertical-align: top;\n",
       "    }\n",
       "\n",
       "    .dataframe thead th {\n",
       "        text-align: right;\n",
       "    }\n",
       "</style>\n",
       "<table border=\"1\" class=\"dataframe\">\n",
       "  <thead>\n",
       "    <tr style=\"text-align: right;\">\n",
       "      <th></th>\n",
       "      <th>id</th>\n",
       "      <th>full_text</th>\n",
       "      <th>favorites</th>\n",
       "      <th>retweets</th>\n",
       "      <th>mentions</th>\n",
       "      <th>country</th>\n",
       "      <th>user</th>\n",
       "      <th>followers</th>\n",
       "      <th>followees</th>\n",
       "    </tr>\n",
       "  </thead>\n",
       "  <tbody>\n",
       "    <tr>\n",
       "      <th>11</th>\n",
       "      <td>183732</td>\n",
       "      <td>Its been in love with the game with the origin...</td>\n",
       "      <td>349.0</td>\n",
       "      <td>44.0</td>\n",
       "      <td>19.0</td>\n",
       "      <td>BRASIL</td>\n",
       "      <td>mateusmartins</td>\n",
       "      <td>982.0</td>\n",
       "      <td>1822</td>\n",
       "    </tr>\n",
       "    <tr>\n",
       "      <th>12</th>\n",
       "      <td>183733</td>\n",
       "      <td>Programming is the best!</td>\n",
       "      <td>467.0</td>\n",
       "      <td>69.0</td>\n",
       "      <td>10.0</td>\n",
       "      <td>ECUADOR</td>\n",
       "      <td>leonardokuffo</td>\n",
       "      <td>389.0</td>\n",
       "      <td>258</td>\n",
       "    </tr>\n",
       "    <tr>\n",
       "      <th>19</th>\n",
       "      <td>183740</td>\n",
       "      <td>Programming is a hot topic!</td>\n",
       "      <td>133.0</td>\n",
       "      <td>145.0</td>\n",
       "      <td>15.0</td>\n",
       "      <td>BRASIL</td>\n",
       "      <td>lucasperes</td>\n",
       "      <td>82.0</td>\n",
       "      <td>351</td>\n",
       "    </tr>\n",
       "    <tr>\n",
       "      <th>20</th>\n",
       "      <td>183741</td>\n",
       "      <td>Programming? i love it!</td>\n",
       "      <td>92.0</td>\n",
       "      <td>146.0</td>\n",
       "      <td>1.0</td>\n",
       "      <td>ECUADOR</td>\n",
       "      <td>galocastillo</td>\n",
       "      <td>332.0</td>\n",
       "      <td>378</td>\n",
       "    </tr>\n",
       "    <tr>\n",
       "      <th>24</th>\n",
       "      <td>183745</td>\n",
       "      <td>There is nothing better than programming!</td>\n",
       "      <td>424.0</td>\n",
       "      <td>110.0</td>\n",
       "      <td>29.0</td>\n",
       "      <td>BRASIL</td>\n",
       "      <td>lucasperes</td>\n",
       "      <td>82.0</td>\n",
       "      <td>351</td>\n",
       "    </tr>\n",
       "    <tr>\n",
       "      <th>26</th>\n",
       "      <td>183747</td>\n",
       "      <td>I do not know if i like programming or other t...</td>\n",
       "      <td>318.0</td>\n",
       "      <td>58.0</td>\n",
       "      <td>20.0</td>\n",
       "      <td>BRASIL</td>\n",
       "      <td>isabelladasilva</td>\n",
       "      <td>928.0</td>\n",
       "      <td>9918</td>\n",
       "    </tr>\n",
       "  </tbody>\n",
       "</table>\n",
       "</div>"
      ],
      "text/plain": [
       "        id                                          full_text  favorites  \\\n",
       "11  183732  Its been in love with the game with the origin...      349.0   \n",
       "12  183733                           Programming is the best!      467.0   \n",
       "19  183740                        Programming is a hot topic!      133.0   \n",
       "20  183741                            Programming? i love it!       92.0   \n",
       "24  183745          There is nothing better than programming!      424.0   \n",
       "26  183747  I do not know if i like programming or other t...      318.0   \n",
       "\n",
       "    retweets  mentions  country             user  followers  followees  \n",
       "11      44.0      19.0   BRASIL    mateusmartins      982.0       1822  \n",
       "12      69.0      10.0  ECUADOR    leonardokuffo      389.0        258  \n",
       "19     145.0      15.0   BRASIL       lucasperes       82.0        351  \n",
       "20     146.0       1.0  ECUADOR     galocastillo      332.0        378  \n",
       "24     110.0      29.0   BRASIL       lucasperes       82.0        351  \n",
       "26      58.0      20.0   BRASIL  isabelladasilva      928.0       9918  "
      ]
     },
     "execution_count": 4,
     "metadata": {},
     "output_type": "execute_result"
    }
   ],
   "source": [
    "index = df[\"full_text\"].str.lower().str.contains(\"programming\")\n",
    "df[index]"
   ]
  },
  {
   "cell_type": "code",
   "execution_count": 7,
   "metadata": {},
   "outputs": [
    {
     "data": {
      "text/html": [
       "<div>\n",
       "<style scoped>\n",
       "    .dataframe tbody tr th:only-of-type {\n",
       "        vertical-align: middle;\n",
       "    }\n",
       "\n",
       "    .dataframe tbody tr th {\n",
       "        vertical-align: top;\n",
       "    }\n",
       "\n",
       "    .dataframe thead th {\n",
       "        text-align: right;\n",
       "    }\n",
       "</style>\n",
       "<table border=\"1\" class=\"dataframe\">\n",
       "  <thead>\n",
       "    <tr style=\"text-align: right;\">\n",
       "      <th></th>\n",
       "      <th>full_text</th>\n",
       "      <th>country</th>\n",
       "    </tr>\n",
       "  </thead>\n",
       "  <tbody>\n",
       "    <tr>\n",
       "      <th>11</th>\n",
       "      <td>Its been in love with the game with the origin...</td>\n",
       "      <td>BRASIL</td>\n",
       "    </tr>\n",
       "    <tr>\n",
       "      <th>12</th>\n",
       "      <td>Programming is the best!</td>\n",
       "      <td>ECUADOR</td>\n",
       "    </tr>\n",
       "    <tr>\n",
       "      <th>19</th>\n",
       "      <td>Programming is a hot topic!</td>\n",
       "      <td>BRASIL</td>\n",
       "    </tr>\n",
       "    <tr>\n",
       "      <th>20</th>\n",
       "      <td>Programming? i love it!</td>\n",
       "      <td>ECUADOR</td>\n",
       "    </tr>\n",
       "    <tr>\n",
       "      <th>24</th>\n",
       "      <td>There is nothing better than programming!</td>\n",
       "      <td>BRASIL</td>\n",
       "    </tr>\n",
       "    <tr>\n",
       "      <th>26</th>\n",
       "      <td>I do not know if i like programming or other t...</td>\n",
       "      <td>BRASIL</td>\n",
       "    </tr>\n",
       "  </tbody>\n",
       "</table>\n",
       "</div>"
      ],
      "text/plain": [
       "                                            full_text  country\n",
       "11  Its been in love with the game with the origin...   BRASIL\n",
       "12                           Programming is the best!  ECUADOR\n",
       "19                        Programming is a hot topic!   BRASIL\n",
       "20                            Programming? i love it!  ECUADOR\n",
       "24          There is nothing better than programming!   BRASIL\n",
       "26  I do not know if i like programming or other t...   BRASIL"
      ]
     },
     "execution_count": 7,
     "metadata": {},
     "output_type": "execute_result"
    }
   ],
   "source": [
    "# solo para etiquetas o boleano\n",
    "df.loc[index, [\"full_text\", \"country\"]]"
   ]
  },
  {
   "cell_type": "code",
   "execution_count": 13,
   "metadata": {},
   "outputs": [
    {
     "data": {
      "text/plain": [
       "Counter({'programming': 4,\n",
       "         'the': 3,\n",
       "         'is': 3,\n",
       "         'i': 3,\n",
       "         'love': 2,\n",
       "         'with': 2,\n",
       "         'better': 2,\n",
       "         'its': 1,\n",
       "         'been': 1,\n",
       "         'in': 1,\n",
       "         'game': 1,\n",
       "         'original': 1,\n",
       "         'monokai': 1,\n",
       "         'colorization': 1,\n",
       "         'for': 1,\n",
       "         'best!': 1,\n",
       "         'a': 1,\n",
       "         'hot': 1,\n",
       "         'topic!': 1,\n",
       "         'programming?': 1,\n",
       "         'it!': 1,\n",
       "         'there': 1,\n",
       "         'nothing': 1,\n",
       "         'than': 1,\n",
       "         'programming!': 1,\n",
       "         'do': 1,\n",
       "         'not': 1,\n",
       "         'know': 1,\n",
       "         'if': 1,\n",
       "         'like': 1,\n",
       "         'or': 1,\n",
       "         'other': 1,\n",
       "         'thing': 1})"
      ]
     },
     "execution_count": 13,
     "metadata": {},
     "output_type": "execute_result"
    }
   ],
   "source": [
    "from collections import Counter\n",
    "\n",
    "lista_palabras = list()\n",
    "for item in df.loc[index, [\"full_text\", \"country\"]].values:\n",
    "    # print(item[0].lower())\n",
    "    lista_palabras.extend(item[0].lower().split())\n",
    "Counter(lista_palabras)\n"
   ]
  },
  {
   "cell_type": "code",
   "execution_count": 14,
   "metadata": {},
   "outputs": [],
   "source": [
    "import random\n",
    "def calcularGanancias(retweets):\n",
    "    return retweets * random.randint(3,5)\n",
    "\n",
    "df[\"ganancias\"] = df[\"retweets\"].apply(calcularGanancias)"
   ]
  },
  {
   "cell_type": "code",
   "execution_count": 15,
   "metadata": {},
   "outputs": [
    {
     "data": {
      "text/plain": [
       "0       NaN\n",
       "1      63.0\n",
       "2     492.0\n",
       "3     380.0\n",
       "4     650.0\n",
       "5     280.0\n",
       "6     160.0\n",
       "7     250.0\n",
       "8     246.0\n",
       "9     276.0\n",
       "10    555.0\n",
       "11    176.0\n",
       "12    276.0\n",
       "13     96.0\n",
       "14     72.0\n",
       "15    460.0\n",
       "16    460.0\n",
       "17    372.0\n",
       "18     78.0\n",
       "19    725.0\n",
       "20    584.0\n",
       "21    292.0\n",
       "22    380.0\n",
       "23    572.0\n",
       "24    440.0\n",
       "25    112.0\n",
       "26    232.0\n",
       "Name: ganancias, dtype: float64"
      ]
     },
     "execution_count": 15,
     "metadata": {},
     "output_type": "execute_result"
    }
   ],
   "source": [
    "df[\"ganancias\"]"
   ]
  },
  {
   "cell_type": "code",
   "execution_count": 76,
   "metadata": {},
   "outputs": [],
   "source": [
    "def most_freqquent_word(full_text):\n",
    "    palabras = Counter(full_text.lower().split())\n",
    "    word = palabras.most_common()[0][0]\n",
    "    if palabras.most_common()[0][1] == 1:\n",
    "        word = None\n",
    "    return word"
   ]
  },
  {
   "cell_type": "code",
   "execution_count": 77,
   "metadata": {},
   "outputs": [
    {
     "data": {
      "text/plain": [
       "0       to\n",
       "1     None\n",
       "2     None\n",
       "3       by\n",
       "4     None\n",
       "5     None\n",
       "6     None\n",
       "7     None\n",
       "8     None\n",
       "9     None\n",
       "10    None\n",
       "11    with\n",
       "12    None\n",
       "13    None\n",
       "14    None\n",
       "15    None\n",
       "16    None\n",
       "17    None\n",
       "18    None\n",
       "19    None\n",
       "20    None\n",
       "21    None\n",
       "22    None\n",
       "23    None\n",
       "24    None\n",
       "25    None\n",
       "26       i\n",
       "Name: word, dtype: object"
      ]
     },
     "execution_count": 77,
     "metadata": {},
     "output_type": "execute_result"
    }
   ],
   "source": [
    "df[\"word\"] = df[\"full_text\"].apply(most_freqquent_word)\n",
    "df[\"word\"]\n"
   ]
  },
  {
   "cell_type": "code",
   "execution_count": 79,
   "metadata": {},
   "outputs": [
    {
     "data": {
      "text/plain": [
       "0     1.507752\n",
       "1     0.538968\n",
       "2     0.093023\n",
       "3     0.878307\n",
       "4     0.093023\n",
       "5     0.538968\n",
       "6     1.507752\n",
       "7     0.093023\n",
       "8     0.093023\n",
       "9     0.538968\n",
       "10    0.538968\n",
       "11    0.538968\n",
       "12    1.507752\n",
       "13    1.507752\n",
       "14    0.007718\n",
       "15    0.093023\n",
       "16    0.233618\n",
       "17    0.007718\n",
       "18    0.878307\n",
       "19    0.233618\n",
       "20    0.878307\n",
       "21    0.878307\n",
       "22    0.233618\n",
       "23         NaN\n",
       "24    0.233618\n",
       "25    0.007718\n",
       "26    0.093567\n",
       "Name: popularidad, dtype: float64"
      ]
     },
     "execution_count": 79,
     "metadata": {},
     "output_type": "execute_result"
    }
   ],
   "source": [
    "def popularidad(fila):\n",
    "    return fila[\"followers\"] / fila[\"followees\"]\n",
    "\n",
    "df[\"popularidad\"] = df.apply(popularidad, axis=1)\n",
    "df[\"popularidad\"]"
   ]
  },
  {
   "cell_type": "code",
   "execution_count": 91,
   "metadata": {},
   "outputs": [
    {
     "data": {
      "text/html": [
       "<div>\n",
       "<style scoped>\n",
       "    .dataframe tbody tr th:only-of-type {\n",
       "        vertical-align: middle;\n",
       "    }\n",
       "\n",
       "    .dataframe tbody tr th {\n",
       "        vertical-align: top;\n",
       "    }\n",
       "\n",
       "    .dataframe thead th {\n",
       "        text-align: right;\n",
       "    }\n",
       "</style>\n",
       "<table border=\"1\" class=\"dataframe\">\n",
       "  <thead>\n",
       "    <tr style=\"text-align: right;\">\n",
       "      <th></th>\n",
       "      <th>id</th>\n",
       "      <th>favorites</th>\n",
       "      <th>retweets</th>\n",
       "      <th>mentions</th>\n",
       "      <th>followers</th>\n",
       "      <th>followees</th>\n",
       "    </tr>\n",
       "    <tr>\n",
       "      <th>country</th>\n",
       "      <th></th>\n",
       "      <th></th>\n",
       "      <th></th>\n",
       "      <th></th>\n",
       "      <th></th>\n",
       "      <th></th>\n",
       "    </tr>\n",
       "  </thead>\n",
       "  <tbody>\n",
       "    <tr>\n",
       "      <th>BRASIL</th>\n",
       "      <td>183736.777778</td>\n",
       "      <td>312.111111</td>\n",
       "      <td>93.333333</td>\n",
       "      <td>18.666667</td>\n",
       "      <td>576.000000</td>\n",
       "      <td>2067.777778</td>\n",
       "    </tr>\n",
       "    <tr>\n",
       "      <th>ECUADOR</th>\n",
       "      <td>183734.285714</td>\n",
       "      <td>209.714286</td>\n",
       "      <td>64.857143</td>\n",
       "      <td>12.142857</td>\n",
       "      <td>356.428571</td>\n",
       "      <td>326.571429</td>\n",
       "    </tr>\n",
       "    <tr>\n",
       "      <th>MEXICO</th>\n",
       "      <td>183733.142857</td>\n",
       "      <td>294.857143</td>\n",
       "      <td>81.714286</td>\n",
       "      <td>14.285714</td>\n",
       "      <td>15.857143</td>\n",
       "      <td>1239.857143</td>\n",
       "    </tr>\n",
       "  </tbody>\n",
       "</table>\n",
       "</div>"
      ],
      "text/plain": [
       "                    id   favorites   retweets   mentions   followers  \\\n",
       "country                                                                \n",
       "BRASIL   183736.777778  312.111111  93.333333  18.666667  576.000000   \n",
       "ECUADOR  183734.285714  209.714286  64.857143  12.142857  356.428571   \n",
       "MEXICO   183733.142857  294.857143  81.714286  14.285714   15.857143   \n",
       "\n",
       "           followees  \n",
       "country               \n",
       "BRASIL   2067.777778  \n",
       "ECUADOR   326.571429  \n",
       "MEXICO   1239.857143  "
      ]
     },
     "execution_count": 91,
     "metadata": {},
     "output_type": "execute_result"
    }
   ],
   "source": [
    "df.dropna(inplace=True)\n",
    "df.groupby(\"country\").mean(numeric_only=True)"
   ]
  },
  {
   "cell_type": "code",
   "execution_count": 92,
   "metadata": {},
   "outputs": [
    {
     "data": {
      "text/html": [
       "<div>\n",
       "<style scoped>\n",
       "    .dataframe tbody tr th:only-of-type {\n",
       "        vertical-align: middle;\n",
       "    }\n",
       "\n",
       "    .dataframe tbody tr th {\n",
       "        vertical-align: top;\n",
       "    }\n",
       "\n",
       "    .dataframe thead th {\n",
       "        text-align: right;\n",
       "    }\n",
       "</style>\n",
       "<table border=\"1\" class=\"dataframe\">\n",
       "  <thead>\n",
       "    <tr style=\"text-align: right;\">\n",
       "      <th></th>\n",
       "      <th>followers</th>\n",
       "      <th>mentions</th>\n",
       "      <th>retweets</th>\n",
       "    </tr>\n",
       "    <tr>\n",
       "      <th>country</th>\n",
       "      <th></th>\n",
       "      <th></th>\n",
       "      <th></th>\n",
       "    </tr>\n",
       "  </thead>\n",
       "  <tbody>\n",
       "    <tr>\n",
       "      <th>BRASIL</th>\n",
       "      <td>5184.0</td>\n",
       "      <td>18.666667</td>\n",
       "      <td>145.0</td>\n",
       "    </tr>\n",
       "    <tr>\n",
       "      <th>ECUADOR</th>\n",
       "      <td>2495.0</td>\n",
       "      <td>12.142857</td>\n",
       "      <td>146.0</td>\n",
       "    </tr>\n",
       "    <tr>\n",
       "      <th>MEXICO</th>\n",
       "      <td>111.0</td>\n",
       "      <td>14.285714</td>\n",
       "      <td>130.0</td>\n",
       "    </tr>\n",
       "  </tbody>\n",
       "</table>\n",
       "</div>"
      ],
      "text/plain": [
       "         followers   mentions  retweets\n",
       "country                                \n",
       "BRASIL      5184.0  18.666667     145.0\n",
       "ECUADOR     2495.0  12.142857     146.0\n",
       "MEXICO       111.0  14.285714     130.0"
      ]
     },
     "execution_count": 92,
     "metadata": {},
     "output_type": "execute_result"
    }
   ],
   "source": [
    "grouped = df.groupby(\"country\").agg(\n",
    "    {\n",
    "        \"followers\": \"sum\",\n",
    "        \"mentions\": \"mean\",\n",
    "        \"retweets\": \"max\"\n",
    "    })\n",
    "\n",
    "# grouped[grouped"
   ]
  },
  {
   "cell_type": "code",
   "execution_count": null,
   "metadata": {},
   "outputs": [],
   "source": []
  }
 ],
 "metadata": {
  "kernelspec": {
   "display_name": "Python 3",
   "language": "python",
   "name": "python3"
  },
  "language_info": {
   "codemirror_mode": {
    "name": "ipython",
    "version": 3
   },
   "file_extension": ".py",
   "mimetype": "text/x-python",
   "name": "python",
   "nbconvert_exporter": "python",
   "pygments_lexer": "ipython3",
   "version": "3.10.12"
  }
 },
 "nbformat": 4,
 "nbformat_minor": 2
}
